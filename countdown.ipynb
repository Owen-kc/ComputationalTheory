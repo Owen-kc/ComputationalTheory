{
 "cells": [
  {
   "cell_type": "markdown",
   "metadata": {},
   "source": [
    "# Computational Theory Project: Countdown\n",
    "\n",
    "In this project, we explore the numbers round of the popular TV programme Countdown. "
   ]
  },
  {
   "cell_type": "markdown",
   "metadata": {},
   "source": [
    "# Table of Contents\n",
    "\n",
    "1. [Introduction](#Introduction)\n",
    "   - [Objective of the Assignment](#Objective-of-the-Assignment)\n",
    "   - [Overview of the Countdown Numbers Game](#Overview-of-the-Countdown-Numbers-Game)\n",
    "2. [Problem Statement](#Problem-Statement)\n",
    "   - [Detailed Description of the Game Rules](#Detailed-Description-of-the-Game-Rules)\n",
    "   - [Strategic Considerations and Perceived Biases](#Strategic-Considerations-and-Perceived-Biases)\n",
    "      - [Biases](#Biases)\n",
    "3. [Background](#Background)\n",
    "   - [Computational Complexity](#Computational-Complexity)\n",
    "   - [Models of Computation](#Models-of-Computation)\n",
    "4. [Approach and Methodology](#Approach-and-Methodology)\n",
    "   - [Algorithm Design](#Algorithm-Design)\n",
    "   - [Functional Programming](#Functional-Programming)\n",
    "5. [Implementation](#Implementation)\n",
    "   - [Setting Up the Environment](#Setting-Up-the-Environment)\n",
    "   - [`solve_numbers` Function](solve_numbers-Function)\n",
    "   - [Testing and Examples](#Testing-and-Examples)\n",
    "6. [Analysis](#Analysis)\n",
    "   - [Evaluation of the Solution](#Evaluation-of-the-Solution)\n",
    "7. [Conclusion](#Conclusion)\n",
    "   - [Summary of Findings](#Summary-of-Findings)\n",
    "8. [References](#References)\n"
   ]
  },
  {
   "cell_type": "markdown",
   "metadata": {},
   "source": [
    "# Introduction\n",
    "***\n",
    "The Countdown numbers game is a mathematical component of the popular television programme *Countdown*. In the numbers round of the show, the contestants are tasked to use arithmetic operations to reach a specified target number. The contestants are given six randomly selected numbers, with which they can add, subtract, divide and multiply to achieve this. While the goal of the game is relatively simple, the game introduces a varying set of circumstances which results in a unique game for each respective set of contestants.\n",
    "\n",
    "## Objective of the Assignment\n",
    "The objective of the assignment is to enhance our computational thinking skills by engaging with a problem which mirrors the comlpexity and unpredictability of real world scenarios. The main objectives of the assignment can be categorized as follows, as per the assignment brief:\n",
    "\n",
    "1. **Identify difficult computational problems in everyday computing:** Using the Countdown numbers game, we can explore how seemingly relatively simple concepts can unfold into complex computational challenges, requiring specific considerations and critical thinking.\n",
    "\n",
    "2. **Define the common models of computation:** We will investigate the common models of computation behind the Countdown numbers game. This process will include understanding the principles of the common models of computation, ensuring this understanding will guide us to developing a consistent and acceptable solution.\n",
    "\n",
    "3. **Design computer programs using a variety of computational paradigms:** The assignment will evolve around the use of a specific function, `solve_numbers`, which will take a variety of computational paradigms, building upon the basis of our understanding of the common models of computation. This function will seek to solve the numbers game challenge, while providing a flexible and practical experience based on our needs.\n",
    "\n",
    "4. **Analyse the complexity of an algorithm:** An important part of the assignment is to analyze and evaluate the efficiency and complexity of our solution. This proces involves thoroughly investigating each component of our solution, ensuring that it meets expectations.\n",
    "\n",
    "We will thoroughly investigate the Countdown numbers game, analyzing its constraints and rules, to implement a thorough solution. The `solve_numbers` function, implemented through Python and its mathematical frameworks, will utilize computational paradigms while building upon the common models of computation to solve the problem of the numbers game efficiently.\n",
    "\n",
    "## Overview of the Countdown Numbers Game\n",
    "The numbers game begins with the selection of the six numbers, which is made up of two different sets of numbers. **Large** numbers, which are made up of one copy of 25, 50, 75 and 100, and **small** numbers which are made up of two sets of the numbers 1-10. The contestant then is able to choose a combination of these numbers, by first selecting between one and four large numbers, with the remaining numbers being made up of the numbers of the 1-10 set. A target number is then generated, with this number being between 101 and 999 inclusive. Contestants are then given 30 seconds to use addition, subtraction, division and multiplication to reach the target number using using any combination of the six chosen numbers. Each of the numbers can only be utilized once in the calculation, ensuring that the number remains a whole number at each step."
   ]
  },
  {
   "cell_type": "markdown",
   "metadata": {},
   "source": [
    "# Problem Statement\n",
    "***\n",
    "\n",
    "## Detailed Description of the Game Rules\n",
    "The Countdown numbers game rules are relatively straightforward, but it's important to give a detailed explanation of the rules so we thoroughly understand the objective we are attempting to achieve. At its core, the numbers game challenges contestants to reach a specified target number from a set of six chosen numbers, using mathematical calculations. \n",
    "\n",
    "#### Numbers Section\n",
    "Participants select six numbers from a set pool, which is defined as follows:\n",
    "\n",
    "- **Small Numbers**: Two sets of the numbers 1 to 10, which means that each of these numbers appear twice. \n",
    "- **Large Numbers**: One set of the larger numbers - 25, 50, 75 and 100, which means that each of these numbers appear once.\n",
    "\n",
    "Below is a table which shows this:"
   ]
  },
  {
   "cell_type": "code",
   "execution_count": 1,
   "metadata": {},
   "outputs": [
    {
     "data": {
      "text/html": [
       "<div>\n",
       "<style scoped>\n",
       "    .dataframe tbody tr th:only-of-type {\n",
       "        vertical-align: middle;\n",
       "    }\n",
       "\n",
       "    .dataframe tbody tr th {\n",
       "        vertical-align: top;\n",
       "    }\n",
       "\n",
       "    .dataframe thead th {\n",
       "        text-align: right;\n",
       "    }\n",
       "</style>\n",
       "<table border=\"1\" class=\"dataframe\">\n",
       "  <thead>\n",
       "    <tr style=\"text-align: right;\">\n",
       "      <th></th>\n",
       "      <th>Number Type</th>\n",
       "      <th>Numbers Available</th>\n",
       "      <th>Quantity in Pool</th>\n",
       "    </tr>\n",
       "  </thead>\n",
       "  <tbody>\n",
       "    <tr>\n",
       "      <th>0</th>\n",
       "      <td>Small</td>\n",
       "      <td>1, 2, 3, 4, 5, 6, 7, 8, 9, 10</td>\n",
       "      <td>2 of each</td>\n",
       "    </tr>\n",
       "    <tr>\n",
       "      <th>1</th>\n",
       "      <td>Large</td>\n",
       "      <td>25, 50, 75, 100</td>\n",
       "      <td>1 of each</td>\n",
       "    </tr>\n",
       "  </tbody>\n",
       "</table>\n",
       "</div>"
      ],
      "text/plain": [
       "  Number Type              Numbers Available Quantity in Pool\n",
       "0       Small  1, 2, 3, 4, 5, 6, 7, 8, 9, 10        2 of each\n",
       "1       Large                25, 50, 75, 100        1 of each"
      ]
     },
     "execution_count": 1,
     "metadata": {},
     "output_type": "execute_result"
    }
   ],
   "source": [
    "import pandas as pd\n",
    "\n",
    "# Data for the table\n",
    "data = {\n",
    "    \"Number Type\": [\"Small\", \"Large\"],\n",
    "    \"Numbers Available\": [\"1, 2, 3, 4, 5, 6, 7, 8, 9, 10\", \"25, 50, 75, 100\"],\n",
    "    \"Quantity in Pool\": [\"2 of each\", \"1 of each\"]\n",
    "}\n",
    "\n",
    "# Create DataFrame\n",
    "df = pd.DataFrame(data)\n",
    "\n",
    "# Display the DataFrame as a table\n",
    "df\n"
   ]
  },
  {
   "cell_type": "markdown",
   "metadata": {},
   "source": [
    "At the start of each round, contestants must select a total of six numbers from these pools. The standard format allows contestants to choose any combination of small and large numbers. The composition of the numbers that the contestant chooses is of their own volition, and is a strategic step of the game, as the choice impacts the mathematical operations that they can use. \n",
    "\n",
    "#### Example Selections:\n",
    "- **All Small Numbers**: 2, 5, 7, 1, 4, 3\n",
    "- **Mixed Numbers**: 5, 2, 4, 25, 50, 100\n",
    "- **Heavy Large Numbers**: 25, 50, 75, 100, 3, 5"
   ]
  },
  {
   "cell_type": "markdown",
   "metadata": {},
   "source": [
    "After selecting six numbers, a random target number is generated between 101 and 999 inclusive. This number represents the goal that contestants must reach using the given selected numbers. Contestants are given 30 seconds to reach the target number using mathematical operations such as **addition**, **subtraction**, **multiplication**, and **division**. However, there are some restrictions on how contestants can utilize the operations. These can be defined as follows:\n",
    "\n",
    "- **Division**: Division can only be used when the result is a whole number. At no stage can there be a negative number in the caclulation process. \n",
    "- **Subtraction**: Subtraction can only be used when it results in a positive number. At no stage in the calculation process can there be a negative number.\n",
    "- **Usage**: While there is no limit on the number of times a mathematical operation can be used, each of the six chosen numbers can only be used once during the calculation.\n",
    "\n",
    "With these considerations in mind, we can better understand how to construct the `solve_numbers` function for our needs. "
   ]
  },
  {
   "cell_type": "markdown",
   "metadata": {},
   "source": [
    "## Strategic Considerations and Perceived Biases\n",
    "The selection of these numbers also introduces complex strategic considerations. Each respective player may have a different approach to choosing numbers based on their own stregth and familiarity with the game. For example, a specific player might feel that they are more comfortable with an emphasis on small numbers, as it provides more control over incremental or minute adjustments to the number, while another player may rely on large numbers as it is more straightforward to reach large numbers. Each approach has it's own strengths and weaknesses, along with some potential biases. With the context of the example selections above, we can explain the potential advantages and disadvantages of each of these approaches:\n",
    "\n",
    "- **All Small Numbers**: A selection of all small numbers allows for a wide range of options for incremental adjustments, providing precise control to the contestant. Working with smaller numbers can also be easier to calculate in the moment. However, without large numbers, it can be difficult to reach high target values efficiently, increasing the complexity of the calculations.\n",
    "\n",
    "- **Mixed Numbers**: This strategy offers a balanced approach, with an equal share of numbers, it provides flexibility, and can easily reach a wide range of target numbers. With more options at their disposal, players might face a challenge of which route to take to reach the target number, but overall, this approach is considered the most versatile.\n",
    "\n",
    "- **Heavy Large Numbers**: Large numbers make it easier to reach high targets with fewer operations, and with many large numbers it typically simplifies the initial calculations, as there is a straightforward path with the given numbers. However, this also means its difficult to make small adjustments, especially if the target number is small.\n",
    "\n",
    "These approcahes have their own advantages and disadvantages, with the all small numbers and heavy large numbers approaches being high risk, high reward, while the mixed numbers approach is flexible and versatile. A situation might arise where a player takes the risk and goes with an emphasis on large numbers, and the target value in this game ends up being high, potentially giving them an advantage over someone with another approach. Overall, the mixed numbers approach, with either 3 small numbers, 3 large numbers, or 4 small numbers, 2 large numbers, provides the most flexibility while reducing risk. This approach is considered by many to be optimal.\n",
    "\n",
    "### Biases\n",
    "When covering a game that involves any form of strategic considerations and random chance, it's important to address potential biases. Perceived biases are not only impacted by the mathematical section of the game, but also by contestants personal strengths and experiences, as well as the context of the game and the willingness to take risks. \n",
    "\n",
    "To cover the topic of biases, we must first look at the target number from the numbers game. In the generation of the target number, we know that the median of the numbers 101 -> 999 is 550. To confirm this, we can define a method below to generate a random number between in this range, and repeat this process 100 times to get the average result across the executions. We would expect this number to be around 550."
   ]
  },
  {
   "cell_type": "code",
   "execution_count": 23,
   "metadata": {},
   "outputs": [
    {
     "name": "stdout",
     "output_type": "stream",
     "text": [
      "Average Target Number (100 executions): 555.38\n"
     ]
    }
   ],
   "source": [
    "import random\n",
    "\n",
    "def generate_target_number():\n",
    "    return random.randint(101, 999)\n",
    "\n",
    "# Generate the target number 100 times\n",
    "target_numbers = [generate_target_number() for _ in range(100)]\n",
    "\n",
    "# Calculate the average of the generated target numbers\n",
    "average_target_number = sum(target_numbers) / len(target_numbers)\n",
    "\n",
    "# Print the average target number\n",
    "print(f\"Average Target Number (100 executions): {average_target_number}\")"
   ]
  },
  {
   "cell_type": "markdown",
   "metadata": {},
   "source": [
    "We can see above that the average target number is typically somewhere around 550, as expected. This introduces a potential bias for contestants to consider, and poses a question:  ***Why would contestants ever diverge from a mixed number approach in the number selection process?*** \n",
    "\n",
    "This is a valid question, as it's clear that the mixed number strategy provides a balanced approach, and considering we know that the median of the numbers is 550, it's likely that the target number will fall within a section of the range that favours the flexibility and versatility of the mixed number strategy. The strategy may struggle with extremely high numbers (850+) and extremely low numbers (>250), but outside of those ranges it's probable that the mixed numbers approach won't face much difficulty in its calculations. \n",
    "\n",
    "#### Strategic Bias, Statisical Bias, and Psychological Bias\n",
    "It's clear that there is a potential strategic bias towards the mixed numbers approach. However, it's important to note that the game, statistically, does not inherently favour this approach. There is an equal chance for any number within range to be selected as the target number, therefore there is no perfect, consistent strategy. Both the strategic and statistical bias can be heavily influenced by the psychological bias of each contestant. A contestant's psychological bias on a certain strategy may influence their decision. By adopting the mixed number strategy, a widely endorsed approach, which provides flexibility and balance, a contestant might as a consequence feel more comfortable with their calculations and perform better in the game. By understanding the difference between these biases, and recognizing their own strengths, a contestant can make a more informed decision, offering a greater chance of success."
   ]
  },
  {
   "cell_type": "markdown",
   "metadata": {},
   "source": [
    "# Background\n",
    "***\n",
    "\n",
    "## Computational Complexity\n",
    "Explore the inherent computational challenges of the Countdown numbers game\n",
    "\n",
    "## Models of Computation\n",
    "Discuss different models of computation that can be applied to solving the Countdown numbers game"
   ]
  }
 ],
 "metadata": {
  "kernelspec": {
   "display_name": "base",
   "language": "python",
   "name": "python3"
  },
  "language_info": {
   "codemirror_mode": {
    "name": "ipython",
    "version": 3
   },
   "file_extension": ".py",
   "mimetype": "text/x-python",
   "name": "python",
   "nbconvert_exporter": "python",
   "pygments_lexer": "ipython3",
   "version": "3.11.7"
  }
 },
 "nbformat": 4,
 "nbformat_minor": 2
}
