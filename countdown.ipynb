{
 "cells": [
  {
   "cell_type": "markdown",
   "metadata": {},
   "source": [
    "# Computational Theory Project: Countdown\n",
    "\n",
    "In this project, we explore the numbers round of the popular TV programme Countdown. "
   ]
  },
  {
   "cell_type": "markdown",
   "metadata": {},
   "source": [
    "# Table of Contents\n",
    "\n",
    "1. [Introduction](#Introduction)\n",
    "   - [Objective of the Assignment](#Objective-of-the-Assignment)\n",
    "   - [Overview of the Countdown Numbers Game](#Overview-of-the-Countdown-Numbers-Game)\n",
    "2. [Problem Statement](#Problem-Statement)\n",
    "   - [Detailed Description of the Game Rules](#Detailed-Description-of-the-Game-Rules)\n",
    "   - [Strategic Considerations and Perceived Biases](#Strategic-Considerations-and-Perceived-Biases)\n",
    "   - [Algorithmic Challenges](#Algorithmic-Challenges)\n",
    "3. [Background](#Background)\n",
    "   - [Computational Complexity](#Computational-Complexity)\n",
    "   - [Models of Computation](#Models-of-Computation)\n",
    "4. [Approach and Methodology](#Approach-and-Methodology)\n",
    "   - [Algorithm Design](#Algorithm-Design)\n",
    "   - [Functional Programming](#Functional-Programming)\n",
    "5. [Implementation](#Implementation)\n",
    "   - [Setting Up the Environment](#Setting-Up-the-Environment)\n",
    "   - [`solve_numbers` Function](solve_numbers-Function)\n",
    "   - [Testing and Examples](#Testing-and-Examples)\n",
    "6. [Analysis](#Analysis)\n",
    "   - [Evaluation of the Solution](#Evaluation-of-the-Solution)\n",
    "7. [Conclusion](#Conclusion)\n",
    "   - [Summary of Findings](#Summary-of-Findings)\n",
    "8. [References](#References)\n"
   ]
  },
  {
   "cell_type": "markdown",
   "metadata": {},
   "source": [
    "# Introduction\n",
    "The Countdown numbers game is a mathematical component of the popular television programme *Countdown*. In the numbers round of the show, the contestants are tasked to use arithmetic operations to reach a specified target number. The contestants are given six randomly selected numbers, with which they can add, subtract, divide and multiply to achieve this. While the goal of the game is relatively simple, the game introduces a varying set of circumstances which results in a unique game for each respective set of contestants.\n",
    "\n",
    "## Objective of the Assignment\n",
    "The objective of the assignment is to enhance our computational thinking skills by engaging with a problem which mirrors the comlpexity and unpredictability of real world scenarios. The main objectives of the assignment can be categorized as follows, as per the assignment brief:\n",
    "\n",
    "1. **Identify difficult computational problems in everyday computing:** Using the Countdown numbers game, we can explore how seemingly relatively simple concepts can unfold into complex computational challenges, requiring specific considerations and critical thinking.\n",
    "\n",
    "2. **Define the common models of computation:** We will investigate the common models of computation behind the Countdown numbers game. This process will include understanding the principles of the common models of computation, ensuring this understanding will guide us to developing a consistent and acceptable solution.\n",
    "\n",
    "3. **Design computer programs using a variety of computational paradigms:** The assignment will evolve around the use of a specific function, `solve_numbers`, which will take a variety of computational paradigms, building upon the basis of our understanding of the common models of computation. This function will seek to solve the numbers game challenge, while providing a flexible and practical experience based on our needs.\n",
    "\n",
    "4. **Analyse the complexity of an algorithm:** An important part of the assignment is to analyze and evaluate the efficiency and complexity of our solution. This proces involves thoroughly investigating each component of our solution, ensuring that it meets expectations.\n",
    "\n",
    "We will thoroughly investigate the Countdown numbers game, analyzing its constraints and rules, to implement a thorough solution. The `solve_numbers` function, implemented through Python and its mathematical frameworks, will utilize computational paradigms while building upon the common models of computation to solve the problem of the numbers game efficiently.\n",
    "\n",
    "## Overview of the Countdown Numbers Game\n",
    "The numbers game begins with the selection of the six numbers, which is made up of two different sets of numbers. **Large** numbers, which are made up of one copy of 25, 50, 75 and 100, and **small** numbers which are made up of two sets of the numbers 1-10. The contestant then is able to choose a combination of these numbers, by first selecting between one and four large numbers, with the remaining numbers being made up of the numbers of the 1-10 set. A target number is then generated, with this number being between 101 and 999 inclusive. Contestants are then given 30 seconds to use addition, subtraction, division and multiplication to reach the target number using using any combination of the six chosen numbers. Each of the numbers can only be utilized once in the calculation, ensuring that the number remains a whole number at each step."
   ]
  },
  {
   "cell_type": "markdown",
   "metadata": {},
   "source": [
    "# Problem Statement\n",
    "*State the problem in a scientific context*\n",
    "## Detailed Description of the Game Rules\n",
    "*Describe the game rules thoroughly, including tables/other visual identifiers*\n",
    "## Strategic Considerations and Perceived Biases\n",
    "*Explain the strategy of the game, cover the potential for biases, if any strategies have an advantage/disadvantage etc.*\n",
    "## Algorithmic Challenges\n",
    "*Identify challenges posed inherently in the game*"
   ]
  }
 ],
 "metadata": {
  "kernelspec": {
   "display_name": "base",
   "language": "python",
   "name": "python3"
  },
  "language_info": {
   "codemirror_mode": {
    "name": "ipython",
    "version": 3
   },
   "file_extension": ".py",
   "mimetype": "text/x-python",
   "name": "python",
   "nbconvert_exporter": "python",
   "pygments_lexer": "ipython3",
   "version": "3.11.7"
  }
 },
 "nbformat": 4,
 "nbformat_minor": 2
}
