{
 "cells": [
  {
   "cell_type": "markdown",
   "metadata": {},
   "source": [
    "# Computational Theory Project: Countdown\n",
    "\n",
    "In this project, we explore the numbers round of the popular TV programme Countdown. "
   ]
  },
  {
   "cell_type": "markdown",
   "metadata": {},
   "source": [
    "# Table of Contents\n",
    "\n",
    "1. [Introduction](#Introduction)\n",
    "   - [Objective of the Assignment](#Objective-of-the-Assignment)\n",
    "   - [Overview of the Countdown Numbers Game](#Overview-of-the-Countdown-Numbers-Game)\n",
    "2. [Problem Statement](#Problem-Statement)\n",
    "   - [Detailed Description of the Game Rules](#Detailed-Description-of-the-Game-Rules)\n",
    "   - [Strategic Considerations and Perceived Biases](#Strategic-Considerations-and-Perceived-Biases)\n",
    "      - [Biases](#Biases)\n",
    "3. [Approach and Methodology](#Approach-and-Methodology)\n",
    "   - [Translating Countdown to a Programme](#Translating-Countdown-to-a-Programme)\n",
    "      - [Input Parameters](#Input-params)\n",
    "      - [Game Rules](#Game-rules)\n",
    "      - [Output](#Output)\n",
    "   - [Functional Programming](#Functional-Programming)\n",
    "      - [Immutability](#Immutability)\n",
    "      - [Higher-order Functions](#Higher-order-Functions)\n",
    "      - [Practical Usage](#Practical-usage)\n",
    "   - [Reverse Polish Notation](#Reverse-Polish-Notation)\n",
    "      - [Benefits](#Benefits)\n",
    "      - [Infix Notation vs Reverse Polish Notation](Infix-Notation-vs-Reverse-Polish-Notation)\n",
    "   - [Algorithm Design](#Algorithm-Design)\n",
    "      - [Optimization](#Optimization)\n",
    "4. [Implementation](#Implementation)\n",
    "   - [Constructing the Function](#Constructing-the-Function)\n",
    "   - [`solve_numbers` Function](#solve_numbers-Function)\n",
    "   - [Improvements](#Improvements)\n",
    "   - [Testing and Examples](#Testing-and-Examples)\n",
    "5. [Analysis](#Analysis)\n",
    "   - [Evaluation of the Solution](#Evaluation-of-the-Solution)\n",
    "6. [Conclusion](#Conclusion)\n",
    "   - [Summary of Findings](#Summary-of-Findings)\n",
    "7. [References](#References)\n"
   ]
  },
  {
   "cell_type": "markdown",
   "metadata": {},
   "source": [
    "# Introduction\n",
    "***\n",
    "The Countdown numbers game is a mathematical component of the popular television programme *Countdown*. In the numbers round of the show, the contestants are tasked to use arithmetic operations to reach a specified target number. The contestants are given six randomly selected numbers, with which they can add, subtract, divide and multiply to achieve this. While the goal of the game is relatively simple, the game introduces a varying set of circumstances which results in a unique game for each respective set of contestants.\n",
    "\n",
    "## Objective of the Assignment\n",
    "The objective of the assignment is to enhance our computational thinking skills by engaging with a problem which mirrors the comlpexity and unpredictability of real world scenarios. The main objectives of the assignment can be categorized as follows, as per the assignment brief:\n",
    "\n",
    "1. **Identify difficult computational problems in everyday computing:** Using the Countdown numbers game, we can explore how seemingly relatively simple concepts can unfold into complex computational challenges, requiring specific considerations and critical thinking.\n",
    "\n",
    "2. **Define the common models of computation:** We will investigate the common models of computation behind the Countdown numbers game. This process will include understanding the principles of the common models of computation, ensuring this understanding will guide us to developing a consistent and acceptable solution.\n",
    "\n",
    "3. **Design computer programs using a variety of computational paradigms:** The assignment will evolve around the use of a specific function, `solve_numbers`, which will take a variety of computational paradigms, building upon the basis of our understanding of the common models of computation. This function will seek to solve the numbers game challenge, while providing a flexible and practical experience based on our needs.\n",
    "\n",
    "4. **Analyse the complexity of an algorithm:** An important part of the assignment is to analyze and evaluate the efficiency and complexity of our solution. This proces involves thoroughly investigating each component of our solution, ensuring that it meets expectations.\n",
    "\n",
    "We will thoroughly investigate the Countdown numbers game, analyzing its constraints and rules, to implement a thorough solution. The `solve_numbers` function, implemented through Python and its mathematical frameworks, will utilize computational paradigms while building upon the common models of computation to solve the problem of the numbers game efficiently.\n",
    "\n",
    "## Overview of the Countdown Numbers Game\n",
    "The numbers game begins with the selection of the six numbers, which is made up of two different sets of numbers. **Large** numbers, which are made up of one copy of 25, 50, 75 and 100, and **small** numbers which are made up of two sets of the numbers 1-10. The contestant then is able to choose a combination of these numbers, by first selecting between one and four large numbers, with the remaining numbers being made up of the numbers of the 1-10 set. A target number is then generated, with this number being between 101 and 999 inclusive. Contestants are then given 30 seconds to use addition, subtraction, division and multiplication to reach the target number using using any combination of the six chosen numbers. Each of the numbers can only be utilized once in the calculation, ensuring that the number remains a whole number at each step."
   ]
  },
  {
   "cell_type": "markdown",
   "metadata": {},
   "source": [
    "# Problem Statement\n",
    "***\n",
    "\n",
    "## Detailed Description of the Game Rules\n",
    "The Countdown numbers game rules are relatively straightforward, but it's important to give a detailed explanation of the rules so we thoroughly understand the objective we are attempting to achieve. At its core, the numbers game challenges contestants to reach a specified target number from a set of six chosen numbers, using mathematical calculations. \n",
    "\n",
    "#### Numbers Section\n",
    "Participants select six numbers from a set pool, which is defined as follows:\n",
    "\n",
    "- **Small Numbers**: Two sets of the numbers 1 to 10, which means that each of these numbers appear twice. \n",
    "- **Large Numbers**: One set of the larger numbers - 25, 50, 75 and 100, which means that each of these numbers appear once.\n",
    "\n",
    "Below is a table which shows this:"
   ]
  },
  {
   "cell_type": "code",
   "execution_count": 1,
   "metadata": {},
   "outputs": [
    {
     "data": {
      "text/html": [
       "<div>\n",
       "<style scoped>\n",
       "    .dataframe tbody tr th:only-of-type {\n",
       "        vertical-align: middle;\n",
       "    }\n",
       "\n",
       "    .dataframe tbody tr th {\n",
       "        vertical-align: top;\n",
       "    }\n",
       "\n",
       "    .dataframe thead th {\n",
       "        text-align: right;\n",
       "    }\n",
       "</style>\n",
       "<table border=\"1\" class=\"dataframe\">\n",
       "  <thead>\n",
       "    <tr style=\"text-align: right;\">\n",
       "      <th></th>\n",
       "      <th>Number Type</th>\n",
       "      <th>Numbers Available</th>\n",
       "      <th>Quantity in Pool</th>\n",
       "    </tr>\n",
       "  </thead>\n",
       "  <tbody>\n",
       "    <tr>\n",
       "      <th>0</th>\n",
       "      <td>Small</td>\n",
       "      <td>1, 2, 3, 4, 5, 6, 7, 8, 9, 10</td>\n",
       "      <td>2 of each</td>\n",
       "    </tr>\n",
       "    <tr>\n",
       "      <th>1</th>\n",
       "      <td>Large</td>\n",
       "      <td>25, 50, 75, 100</td>\n",
       "      <td>1 of each</td>\n",
       "    </tr>\n",
       "  </tbody>\n",
       "</table>\n",
       "</div>"
      ],
      "text/plain": [
       "  Number Type              Numbers Available Quantity in Pool\n",
       "0       Small  1, 2, 3, 4, 5, 6, 7, 8, 9, 10        2 of each\n",
       "1       Large                25, 50, 75, 100        1 of each"
      ]
     },
     "execution_count": 1,
     "metadata": {},
     "output_type": "execute_result"
    }
   ],
   "source": [
    "import pandas as pd\n",
    "\n",
    "# Data for the table\n",
    "data = {\n",
    "    \"Number Type\": [\"Small\", \"Large\"],\n",
    "    \"Numbers Available\": [\"1, 2, 3, 4, 5, 6, 7, 8, 9, 10\", \"25, 50, 75, 100\"],\n",
    "    \"Quantity in Pool\": [\"2 of each\", \"1 of each\"]\n",
    "}\n",
    "\n",
    "# Create DataFrame\n",
    "df = pd.DataFrame(data)\n",
    "\n",
    "# Display the DataFrame as a table\n",
    "df\n"
   ]
  },
  {
   "cell_type": "markdown",
   "metadata": {},
   "source": [
    "At the start of each round, contestants must select a total of six numbers from these pools. The standard format allows contestants to choose any combination of small and large numbers. The composition of the numbers that the contestant chooses is of their own volition, and is a strategic step of the game, as the choice impacts the mathematical operations that they can use. \n",
    "\n",
    "#### Example Selections:\n",
    "- **All Small Numbers**: 2, 5, 7, 1, 4, 3\n",
    "- **Mixed Numbers**: 5, 2, 4, 25, 50, 100\n",
    "- **Heavy Large Numbers**: 25, 50, 75, 100, 3, 5"
   ]
  },
  {
   "cell_type": "markdown",
   "metadata": {},
   "source": [
    "After selecting six numbers, a random target number is generated between 101 and 999 inclusive. This number represents the goal that contestants must reach using the given selected numbers. Contestants are given 30 seconds to reach the target number using mathematical operations such as **addition**, **subtraction**, **multiplication**, and **division**. However, there are some restrictions on how contestants can utilize the operations. These can be defined as follows:\n",
    "\n",
    "- **Division**: Division can only be used when the result is a whole number. At no stage can there be a negative number in the caclulation process. \n",
    "- **Subtraction**: Subtraction can only be used when it results in a positive number. At no stage in the calculation process can there be a negative number.\n",
    "- **Usage**: While there is no limit on the number of times a mathematical operation can be used, each of the six chosen numbers can only be used once during the calculation.\n",
    "\n",
    "With these considerations in mind, we can better understand how to construct the `solve_numbers` function for our needs. "
   ]
  },
  {
   "cell_type": "markdown",
   "metadata": {},
   "source": [
    "## Strategic Considerations and Perceived Biases\n",
    "The selection of these numbers also introduces complex strategic considerations. Each respective player may have a different approach to choosing numbers based on their own stregth and familiarity with the game. For example, a specific player might feel that they are more comfortable with an emphasis on small numbers, as it provides more control over incremental or minute adjustments to the number, while another player may rely on large numbers as it is more straightforward to reach large numbers. Each approach has it's own strengths and weaknesses, along with some potential biases. With the context of the example selections above, we can explain the potential advantages and disadvantages of each of these approaches:\n",
    "\n",
    "- **All Small Numbers**: A selection of all small numbers allows for a wide range of options for incremental adjustments, providing precise control to the contestant. Working with smaller numbers can also be easier to calculate in the moment. However, without large numbers, it can be difficult to reach high target values efficiently, increasing the complexity of the calculations.\n",
    "\n",
    "- **Mixed Numbers**: This strategy offers a balanced approach, with an equal share of numbers, it provides flexibility, and can easily reach a wide range of target numbers. With more options at their disposal, players might face a challenge of which route to take to reach the target number, but overall, this approach is considered the most versatile.\n",
    "\n",
    "- **Heavy Large Numbers**: Large numbers make it easier to reach high targets with fewer operations, and with many large numbers it typically simplifies the initial calculations, as there is a straightforward path with the given numbers. However, this also means its difficult to make small adjustments, especially if the target number is small.\n",
    "\n",
    "These approcahes have their own advantages and disadvantages, with the all small numbers and heavy large numbers approaches being high risk, high reward, while the mixed numbers approach is flexible and versatile. A situation might arise where a player takes the risk and goes with an emphasis on large numbers, and the target value in this game ends up being high, potentially giving them an advantage over someone with another approach. Overall, the mixed numbers approach, with either 3 small numbers, 3 large numbers, or 4 small numbers, 2 large numbers, provides the most flexibility while reducing risk. This approach is considered by many to be optimal.\n",
    "\n",
    "### Biases\n",
    "When covering a game that involves any form of strategic considerations and random chance, it's important to address potential biases. Perceived biases are not only impacted by the mathematical section of the game, but also by contestants personal strengths and experiences, as well as the context of the game and the willingness to take risks. \n",
    "\n",
    "To cover the topic of biases, we must first look at the target number from the numbers game. In the generation of the target number, we know that the median of the numbers 101 -> 999 is 550. To confirm this, we can define a method below to generate a random number between in this range, and repeat this process 100 times to get the average result across the executions. We would expect this number to be around 550."
   ]
  },
  {
   "cell_type": "code",
   "execution_count": 23,
   "metadata": {},
   "outputs": [
    {
     "name": "stdout",
     "output_type": "stream",
     "text": [
      "Average Target Number (100 executions): 555.38\n"
     ]
    }
   ],
   "source": [
    "import random\n",
    "\n",
    "def generate_target_number():\n",
    "    return random.randint(101, 999)\n",
    "\n",
    "# Generate the target number 100 times\n",
    "target_numbers = [generate_target_number() for _ in range(100)]\n",
    "\n",
    "# Calculate the average of the generated target numbers\n",
    "average_target_number = sum(target_numbers) / len(target_numbers)\n",
    "\n",
    "# Print the average target number\n",
    "print(f\"Average Target Number (100 executions): {average_target_number}\")"
   ]
  },
  {
   "cell_type": "markdown",
   "metadata": {},
   "source": [
    "We can see above that the average target number is typically somewhere around 550, as expected. This introduces a potential bias for contestants to consider, and poses a question:  ***Why would contestants ever diverge from a mixed number approach in the number selection process?*** \n",
    "\n",
    "This is a valid question, as it's clear that the mixed number strategy provides a balanced approach, and considering we know that the median of the numbers is 550, it's likely that the target number will fall within a section of the range that favours the flexibility and versatility of the mixed number strategy. The strategy may struggle with extremely high numbers (850+) and extremely low numbers (>250), but outside of those ranges it's probable that the mixed numbers approach won't face much difficulty in its calculations. \n",
    "\n",
    "#### Strategic Bias, Statisical Bias, and Psychological Bias\n",
    "It's clear that there is a potential strategic bias towards the mixed numbers approach. However, it's important to note that the game, statistically, does not inherently favour this approach. There is an equal chance for any number within range to be selected as the target number, therefore there is no perfect, consistent strategy. Both the strategic and statistical bias can be heavily influenced by the psychological bias of each contestant. A contestant's psychological bias on a certain strategy may influence their decision. By adopting the mixed number strategy, a widely endorsed approach, which provides flexibility and balance, a contestant might as a consequence feel more comfortable with their calculations and perform better in the game. By understanding the difference between these biases, and recognizing their own strengths, a contestant can make a more informed decision, offering a greater chance of success."
   ]
  },
  {
   "cell_type": "markdown",
   "metadata": {},
   "source": [
    "# Approach and Methodology\n",
    "***\n",
    "In this section, we explore the design of the algorithm and the approach we will use to address the Countdown numbers game. The focus of this section is to lay the foundation for the `solve_numbers` function, and consider what strategy and approach would best suit the function. This section will cover the algorithmic design and considerations of the function, as well as explain how functional programming principles can be utilized in tandem with reverse polish notation.\n",
    "\n",
    "## Translating Countdown to a Programme\n",
    "Given that Countdown is played in a non-digital context, we must first define how the numbers round can be efficiently transferred to a programming context.\n",
    "### Input Parameters\n",
    "The initial steps of the Countdown numbers game includes defining the randomly chosen numbers and the target number, as defined previously in the notebook. We know that there are two pools of numbers for the number selection process, small numbers (**1-10 x 2**), and large numbers (**25, 50, 75, 100**), and we know that the target number is a randomly generated number from **101-999**. These numbers act as the input parameters that the programme will calculate from. \n",
    "\n",
    "- **Randomly Selecting Numbers**: From the small numbers pool (two instances of each number from 1 to 10), four are randomly chosen, and from the large numbers pool (25, 50, 75, and 100), two are selected. This combination of numbers can be changed if required, but will initially begin with 4 small numbers and 2 large numbers for a common approach.\n",
    "\n",
    "- **Generating the Target Number**: The target number is randomly generated within the specified range (101 to 999). This number sets the goal for the player, or in our case, the algorithm, to achieve using arithmetic operations constrained by the game rules.\n",
    "\n",
    "The function will randomly generate each of these numbers each time the function is executed, so as to follow the traditional rules of the Countdown numbers round and ensure the function is being tested appropriately.\n",
    "\n",
    "### Game Rules\n",
    "It's important that the function recognizes the games rules and constraints during the calculation process, ensuring that the function accurately calculates solutions fairly.\n",
    "\n",
    "- **Single Use of Numbers**: As per the game requirements, numbers can only be used once during the solution process. \n",
    "- **Valid Operations**: Common mathematical operators can be used during the calculation process, such as addition, subtraction, multiplication and division. However, the code explicitly must check for:\n",
    "    - **Subtraction**: Ensure that there is not a negative number at any point of the calculation process.\n",
    "    - **Division**: Ensure that division doesn't result in a fractional result.\n",
    "\n",
    "A method must be defined to validate each of these rules, ensuring each potential solution the function outputs is legitimate and fair under the games rules.\n",
    "\n",
    "### Output\n",
    "\n",
    "The `solve_numbers` function outputs the results of the computational attempts to solve the Countdown numbers round. The method should print the outputs in a user-friendly, readable manner. \n",
    "\n",
    "- **Successful Solutions**: Each successful solution should be outputted by the function, as well as a total count of the amount of solutions that were deemed correct.\n",
    "- **No Solutions**: If there are no solutions, the function should briefly inform the user that there was no solution found, indicating the function was unable to find a solution to with the specified numbers.\n",
    "- **Structure**: The method should output the steps of the calculation process, rather than the calculation only. This means that each step in the process to reach the target number should be included with the output, as well as the solution in it's entirety.\n",
    "\n",
    "By defining these aspects, and how they could transfer to a programming context, we can better construct the design of the functions and algorithm overall, leading to a more efficient and realistic simulation of the Countdown numbers game.\n",
    "\n",
    "## Functional Programming\n",
    "Functional programming is a paradigm that encourages the use of pure functions, immutability and higher-order functions. Functional programming is declarative rather than imperative and its application in Python can enhance code maintainability, readability and efficiency. \n",
    "\n",
    "### Immutability\n",
    "Immutability referes to the concept that data structures should not be modified after they are created. Any function that needs to utilize data should create and return a new sample rather than changing existing structure. This helps eliminate errors related to data changes and data availability.\n",
    "\n",
    "**Relevance to Countdown**:\n",
    "- **Consistency**: Each state of a specific game will remain unchanged through the process of execution. This ensures each step can be predicted and repeated if required, such as for debugging or verification.\n",
    "\n",
    "- **Operations**: The algorithm will utilize operations for the calculations of the numbers game, such as addition or subtraction. Utilizing these operations inherently produces consistent results for a specific set of numbers, which is crucial for the calcualtion process, and verification if needed.\n",
    "\n",
    "- **Safety**: The algorithm will explore numerous possible solutions at the same time, so ensuring that these calculations are following thread-safe operations is essential to a fair and accurate solution. Immutability enables safer processing in the context of the Countdown numbers game as it enables multiple threads or processes to operate on immutable data structures at the same time.\n",
    "\n",
    "\n",
    "\n",
    "### Higher-order Functions\n",
    "Higher-order functions are functions that can take one or more functions as an input and returns an entirely new function. This is particularly useful as it enables the creation of flexibile and reusable code segments.\n",
    "\n",
    "**Relevance to Countdown**:\n",
    "\n",
    "- **Reusability**: Higher-order functions enable the creation of modular and reusable components. This is relevant to Countdown as functions that perform mathematical operations such as addition, subtraction, multiplication or division can be passed as arguments to other functions efficiently.\n",
    "\n",
    "- **Abstraction**: By utilizing higher-order functions, traditionally complex logic can be abstracted into simpler, more manageable segments, making the overall architecture easier to debug, maintain, and modify. \n",
    "\n",
    "The use of immutability and higher-order functions for the Countdown numbers game grants safety in concurrency and significantly improves the modularity and reusability of components by abstracting operations into simpler functions, making the system easier to maintain and extend if required [5, 6]. \n",
    "\n",
    "## Reverse Polish Notation\n",
    "Reverse Polish Notation, often referred to as postfix notation, is a method for writing expressions where each operator follows all of its operands. RPN removes the need for parentheses required by infix notation, which simplifies the computational logic.\n",
    "\n",
    "### Benefits\n",
    "RPN eliminates the need for parentheses or brackets for calculations, and does not require any hierarchy at all. This leads to a more straightforward parsing process, and in the context of the Countdown numbers game, where there is potential for many different combinations of mathematical operators and numbers. Without the need for operator precedence or parentheses, RPN reduces the chance that errors could arise from misinterpretation of operation order. Each operator in RPN follows its operands, so the sequence of operations is straightforward. Utiziling a stack based algorithm, RPN also utilizes memory efficiently, which is particulary useful for the Countdown numbers game, as numerous combinations and examples are tested concurrently or quickly [7]. \n",
    "\n",
    "### Infix Notation vs Reverse Polish Notation\n",
    "Consider the following infix notation: \n",
    "\n",
    "$(2 + 3) * 4$\n",
    "\n",
    "In the above, operators are placed between operands, and parentheses are necessary to define the natural order of operations. Without parentheses, the notation would be as follows:\n",
    "\n",
    "$2 + 3 * 4$\n",
    "\n",
    "In the notation above without parentheses, the multiplication would take priority over addition, resulting in:\n",
    "\n",
    "$2 + 3 * 4 = 14$ \n",
    "\n",
    "This result is actually not correct. When utilizing parentheses, the correct result would be:\n",
    "\n",
    "$(2 + 3) * 4 = 20$\n",
    "\n",
    "On the other hand, the same expression in RPN would be defined as `2 3 + 4 *`. In this express, no parentheses are required, the operations are performed when they are available. \n",
    "\n",
    "- `2 3 +` pushes `2` and `3` onto the stack, then adds them to get `5`.\n",
    "- `5 4 *` then multiplies `5` by `4` to yield `20`.\n",
    "\n",
    "These distinctions highlight why RPN is particularly suited for the Countdown numbers game, where efficient parsing and evaluation are essential [7].\n",
    "\n",
    "\n",
    "## Algorithm Design\n",
    "The foundation and the implementation of the `solve_numbers` function will heavily utilize Reverse Polish Notation, as it's a very efficient way to evaluate mathematical expressions, which is particularly useful for the Countdown numbers game. The approach will also utilize functional programming paradigms where possible, ensuring the function encourages modularity and reusability.\n",
    "\n",
    "By adopting RPN, the algorithm eliminates the complexities with traditional infix notation, enabling efficient evaluation of expressions. Leveraging a stack-based algorithm, the function processes expressions from left to right without the need for parentheses or operator precendence, which simplifies and improves the computation of the Countdown numbers game significantly.\n",
    "\n",
    "However, it's important to note that since we are using Reverse Polish Notation, we will have to define a function to convert the output into a human-readable format, otherwise the output will contain operators and operands.\n",
    "\n",
    "### Optimization\n",
    "\n",
    "**Early Termination & Validation**: During the building of the sequences, the function needs to terminate invalid sequences early, which include sequences that break the rules, such as reusing a number twice or using a negative or non-integer result. This is important as it will save resources and speed up the calculation process.\n",
    "\n",
    "**Random Number Generation**: A method must be defined to randomly generate numbers for the Countdown numbers game. After RPN and functional programming paradigms are applied, a function should be utilized to generate these numbers before executing the `solve_numbers` function.\n",
    "\n",
    "**Comprehensive Generation**: Utilizing `itertools` and `functools`, the function should generate every possible solution for each respective combination of numbers. This is essential for a fair and comprehensive evaluation of a specified set of numbers.\n"
   ]
  },
  {
   "cell_type": "markdown",
   "metadata": {},
   "source": [
    "# Implementation\n",
    "In this section, we will walk through constructing the necessary functions and foundation for the `solve_numbers` function, which is designed to output the solution for the Countdown numbers game. We will break down each part of the code, explaining how each section functions and why it's required.\n",
    "\n",
    "## Constructing the Function\n",
    "\n",
    "#### Importing Necessary Modules\n",
    "Before implementing the code itself, we must import the required modules:"
   ]
  },
  {
   "cell_type": "code",
   "execution_count": null,
   "metadata": {},
   "outputs": [],
   "source": [
    "import operator\n",
    "from itertools import permutations, product\n",
    "from functools import reduce"
   ]
  },
  {
   "cell_type": "markdown",
   "metadata": {},
   "source": [
    "The **operator** module provides functions for mathematical operations, allowing us to use the operations as first class functions. Itertools is used through **permutations**, which randomize the numbers, and **product**, which allows us to combine the numbers. Functools imports **reduce** which is used as a higher-order functional programming paradigm."
   ]
  },
  {
   "cell_type": "markdown",
   "metadata": {},
   "source": [
    "#### Defining Operators and Symbols\n",
    "Next, we define dictionaries to map arithmetic operations to their corresponding symbols:"
   ]
  },
  {
   "cell_type": "code",
   "execution_count": null,
   "metadata": {},
   "outputs": [],
   "source": [
    "OPERATORS = {\n",
    "    \"+\": operator.add,\n",
    "    \"-\": operator.sub,\n",
    "    \"*\": operator.mul,\n",
    "    \"/\": operator.floordiv  # integer based division, no fractions\n",
    "}\n",
    "OP_SYMBOLS = {\n",
    "    operator.add: '+',\n",
    "    operator.sub: '-',\n",
    "    operator.mul: '*',\n",
    "    operator.floordiv: '/'\n",
    "}\n"
   ]
  },
  {
   "cell_type": "markdown",
   "metadata": {},
   "source": [
    "**OPERATORS** maps string symbols to their respective arithmetic function, allowing for execution based on the algorithms requirements. This dictionary is essential for actually processing the mathematical expressions of the Countdown numbers game. **OP_SYMBOLS**, on the other hand, is a reverse mapping of the arithmetic functions back to their string representations. This dictionary is useful when the function needs to convert computations into a human readable format."
   ]
  },
  {
   "cell_type": "markdown",
   "metadata": {},
   "source": [
    "#### Translate to Human-Readable Expression\n",
    "Next, we will define a function which converts operations and numbers that are in Reverse Polish Notation back into a human readable format:"
   ]
  },
  {
   "cell_type": "code",
   "execution_count": null,
   "metadata": {},
   "outputs": [],
   "source": [
    "def translate_to_expression(sequence):\n",
    "    def process(stack, item):\n",
    "        if callable(item):\n",
    "            # Pop the last two elements from the stack as operands for the operation\n",
    "            op2 = stack.pop()\n",
    "            op1 = stack.pop()\n",
    "            # Get the symbol for the operator from the OP_SYMBOLS dictionary\n",
    "            op_symbol = OP_SYMBOLS[item]\n",
    "            # format expression\n",
    "            expr = f\"{op1} {op_symbol} {op2}\"\n",
    "            stack.append(expr)\n",
    "            # print the operation and its result \n",
    "            print(f\"{op1} {op_symbol} {op2} = {item(eval(op1), eval(op2))}\")\n",
    "            return stack\n",
    "        else:\n",
    "            # If the item is not callable (i.e., it's a number), just push it onto the stack\n",
    "            stack.append(str(item))\n",
    "            return stack\n",
    "    # Use reduce to process the entire sequence\n",
    "    return reduce(process, sequence, [])[0]"
   ]
  },
  {
   "cell_type": "markdown",
   "metadata": {},
   "source": [
    "The function above converts sequences of operations and numbers, from Reverse Polish Notation, into a traditional expression format that is easier to read. This transformation is crucial, as if the output wasn't translated, it would include lengthy and confusing operands and operators in each output. \n",
    "\n",
    "In the code above, stacks are utilized to manage the operands and operators as it iterates through the sequence. If the item is an operator, represented by callable, the function pops the last two elements from the stack. These elements are operands. The function then uses the **OP_SYMBOLS** dictionary to get the representation of the operator, which is appended for readability. \n",
    "\n",
    "The `reduce()` function processes the sequence of operations and numbers, reducing them to a single, readable expression. It does this by applying the process function to each item, either adding a number to the stack or popping off a number to apply an operator. For example, if the item is a `+`, it pops the last two numbers off the stack, adds them, and returns the result to the stack. Utilizing `reduce()` transforms a potentiallyt complex RPN input into a straightforward, singular expression. The reduce method is one of the most prominent examples of functional programming in the `solve_numbers` calculation process, representing a higher-order function."
   ]
  },
  {
   "cell_type": "markdown",
   "metadata": {},
   "source": [
    "#### Validation\n",
    "Next, we must construct a function which ensures that each Reverse Polish Notation expression is valid. This step is essential to following the rules of the Countdown numbers game, ensuring each computation is fair and legitimate:"
   ]
  },
  {
   "cell_type": "code",
   "execution_count": null,
   "metadata": {},
   "outputs": [],
   "source": [
    "def is_valid_sequence(sequence):\n",
    "    stack = []\n",
    "    for item in sequence:\n",
    "        if callable(item):  # Check if the item is an operator\n",
    "            if len(stack) < 2:\n",
    "                # Ensure there are at least two numbers in the stack to perform an operation\n",
    "                return False\n",
    "            b, a = stack.pop(), stack.pop()\n",
    "            if item == operator.sub and a < b:\n",
    "                # Prevent negative results in subtraction\n",
    "                return False\n",
    "            if item == operator.floordiv and (b == 0 or a % b != 0):\n",
    "                # Avoid division by zero and ensure integer division\n",
    "                return False\n",
    "            stack.append(item(a, b))\n",
    "        else:\n",
    "            # For numbers, push them onto the stack\n",
    "            stack.append(item)\n",
    "    # Valid sequences  leave one number on the stack, representing the result at the end\n",
    "    return len(stack) == 1\n"
   ]
  },
  {
   "cell_type": "markdown",
   "metadata": {},
   "source": [
    "The function above utilizes a stack to validate the sequence as each element is processed by the function. It checks that each operator has enough operands to execute without errors, by checking the length of the stack and ensuring that it is at least two in length, so that an operator has a sufficient amount of numbers to operate on. The function also prevents division by zero and ensures that subtraction does not lead to a negative result, as per the Countdown number game rules. Without this step, further functionality would not be considered in line with game rules."
   ]
  },
  {
   "cell_type": "markdown",
   "metadata": {},
   "source": [
    "#### Building\n",
    "The following function constructs a viable RPN sequence from potential numbers and operations. It ensures each sequence is valid in terms of RPN rules:"
   ]
  },
  {
   "cell_type": "code",
   "execution_count": null,
   "metadata": {},
   "outputs": [],
   "source": [
    "def build_sequences(num_perm, ops_perm):\n",
    "    sequence = []\n",
    "    ops_iter = iter(ops_perm)  # Create an iterator \n",
    "    for number in num_perm:    # Iterate through each number in the permutation\n",
    "        sequence.append(number)  # Add number to sequence\n",
    "        # Check if there are enough numbers in the sequence for an operator (>=2)\n",
    "        if len(sequence) - sum(1 for x in sequence if callable(x)) >= 2:\n",
    "            try:\n",
    "                sequence.append(next(ops_iter))  # Add operator \n",
    "            except StopIteration:\n",
    "                continue  # If no more operators, continue without changes\n",
    "    return sequence\n"
   ]
  },
  {
   "cell_type": "markdown",
   "metadata": {},
   "source": [
    "The `build_sequences` function ensures that operators are added only when there are enough numbers or operands before them, which is essential for valid RPN structure. The function needs two numbers to apply an operator correctly, as an operator cannot be applied to a single operand as it is an invalid function. The function also iterates with the `for` loop through each number permutation and operator to explore every possible RPN sequence that is considered valid."
   ]
  },
  {
   "cell_type": "markdown",
   "metadata": {},
   "source": [
    "#### Evaluation \n",
    "Next, we must define a function which tests whether the RPN sequence results in the correct target number that has been defined. It does this, again, through a stack-based method:"
   ]
  },
  {
   "cell_type": "code",
   "execution_count": null,
   "metadata": {},
   "outputs": [],
   "source": [
    "def evaluate_sequence(sequence, target):\n",
    "    stack = []  # Initialize an empty stack\n",
    "    for item in sequence:  # Iterate through items in the sequence\n",
    "        if callable(item):  # Check if item is an operator\n",
    "            if len(stack) < 2:  # Ensure there are at least two numbers to operate on\n",
    "                return False  # Not enough operands\n",
    "            b, a = stack.pop(), stack.pop()  # Pop two elements from the stack\n",
    "            stack.append(item(a, b))  # Perform operation and push result back to stack\n",
    "        else:\n",
    "            stack.append(item)  # push onto stack\n",
    "    return stack[-1] == target  # Check if last item in stack (result) is the target\n"
   ]
  },
  {
   "cell_type": "markdown",
   "metadata": {},
   "source": [
    "The `evaluate_sequence` function utilizes a stack to track operations, and includes checks to ensure that operations are only executed when valid. For example, if an operation requires division by zero, it's not executed, or if it has not enough operands, it's also not executed. This ensures that the methods that are invalid are not executed, making the process of calculation more efficient. Finally, the function checks the last item in the stack, which is the result. If the result matches the target number, it's deemed valid and the solution is correct."
   ]
  },
  {
   "cell_type": "markdown",
   "metadata": {},
   "source": [
    "#### Calculating Solutions\n",
    "The following function is one of the main components of the overall function. It explores each potential sequence and identifies which ones meet the defined target number: "
   ]
  },
  {
   "cell_type": "code",
   "execution_count": null,
   "metadata": {},
   "outputs": [],
   "source": [
    "def calculate(numbers, target):\n",
    "    solutions = []  # ist to store all valid solutions\n",
    "    # Generate all permutations of numbers and combinations of operators\n",
    "    for num_perm in permutations(numbers):\n",
    "        for ops_perm in product(OPERATORS.values(), repeat=len(numbers) - 1):\n",
    "            sequence = build_sequences(num_perm, ops_perm)  # build RPN sequence from previous method\n",
    "            # Validate and evaluate the sequence from previous methods\n",
    "            if is_valid_sequence(sequence) and evaluate_sequence(sequence, target):\n",
    "                solutions.append(sequence)  # Add successful sequences to solutions list\n",
    "    return solutions\n"
   ]
  },
  {
   "cell_type": "markdown",
   "metadata": {},
   "source": [
    "The `calculate` function iterates over every permutation of inputs and operators, which ensures that each potential solution is explored. For each combination, it creates a valid RPN sequence using the `build_sequences` method and checks if the sequence is valid and can correctly calculate a solution through the `evaluate_sequence` method. Only sequences that are deemed valid, as per the `is_valid_sequence` method, are added to the solution list. This method thoroughly explores every feasible solution, ensuring that each set of defined numbers are fairly represented. This method utilizes each previous method, which all use RPN for sequence validation, evaluation, and calculation."
   ]
  },
  {
   "cell_type": "markdown",
   "metadata": {},
   "source": [
    "#### Full code block (to update to main section)"
   ]
  },
  {
   "cell_type": "code",
   "execution_count": 9,
   "metadata": {},
   "outputs": [],
   "source": [
    "# Full uncommented RPN code block from each previous method, to update and add to correct section\n",
    "import operator\n",
    "from itertools import permutations, product\n",
    "from functools import reduce\n",
    "\n",
    "OPERATORS = {\n",
    "    \"+\": operator.add,\n",
    "    \"-\": operator.sub,\n",
    "    \"*\": operator.mul,\n",
    "    \"/\": operator.floordiv \n",
    "}\n",
    "OP_SYMBOLS = {\n",
    "    operator.add: '+',\n",
    "    operator.sub: '-',\n",
    "    operator.mul: '*',\n",
    "    operator.floordiv: '/'\n",
    "}\n",
    "\n",
    "def translate_to_expression(sequence):\n",
    "    def process(stack, item):\n",
    "        if callable(item):\n",
    "            op2 = stack.pop()\n",
    "            op1 = stack.pop()\n",
    "            op_symbol = OP_SYMBOLS[item]\n",
    "            expr = f\"{op1} {op_symbol} {op2}\"\n",
    "            stack.append(expr)\n",
    "            print(f\"{op1} {op_symbol} {op2} = {item(eval(op1), eval(op2))}\")\n",
    "            return stack\n",
    "        else:\n",
    "            stack.append(str(item))\n",
    "            return stack\n",
    "    return reduce(process, sequence, [])[0]\n",
    "\n",
    "\n",
    "\n",
    "def is_valid_sequence(sequence):\n",
    "    stack = []\n",
    "    for item in sequence:\n",
    "        if callable(item):\n",
    "            if len(stack) < 2:\n",
    "                return False\n",
    "            b, a = stack.pop(), stack.pop()\n",
    "            if item == operator.sub and a < b:\n",
    "                return False\n",
    "            if item == operator.floordiv and (b == 0 or a % b != 0):\n",
    "                return False\n",
    "            stack.append(item(a, b))\n",
    "        else:\n",
    "            stack.append(item)\n",
    "    return len(stack) == 1\n",
    "\n",
    "def build_sequences(num_perm, ops_perm):\n",
    "    sequence = []\n",
    "    ops_iter = iter(ops_perm)\n",
    "    for number in num_perm:\n",
    "        sequence.append(number)\n",
    "        if len(sequence) - sum(1 for x in sequence if callable(x)) >= 2:\n",
    "            try:\n",
    "                sequence.append(next(ops_iter))\n",
    "            except StopIteration:\n",
    "                continue\n",
    "    return sequence\n",
    "\n",
    "\n",
    "def evaluate_sequence(sequence, target):\n",
    "    stack = []\n",
    "    for item in sequence:\n",
    "        if callable(item):\n",
    "            if len(stack) < 2:\n",
    "                return False\n",
    "            b, a = stack.pop(), stack.pop()\n",
    "            stack.append(item(a, b))\n",
    "        else:\n",
    "            stack.append(item)\n",
    "    return stack[-1] == target\n",
    "\n",
    "def calculate(numbers, target):\n",
    "    solutions = []\n",
    "    for num_perm in permutations(numbers):\n",
    "        for ops_perm in product(OPERATORS.values(), repeat=len(numbers) - 1):\n",
    "            sequence = build_sequences(num_perm, ops_perm)\n",
    "            if is_valid_sequence(sequence) and evaluate_sequence(sequence, target):\n",
    "                solutions.append(sequence)\n",
    "    return solutions"
   ]
  },
  {
   "cell_type": "markdown",
   "metadata": {},
   "source": [
    "# References\n",
    "\n",
    "[1] TTested, \"Polish Countdown\", TTested, [Online]. Available: https://www.ttested.com/polish-countdown/\n",
    "\n",
    "[2] Daitx, \"Countdown Math\", Daitx Blog, May 1, 2016, [Online]. Available: https://www.daitx.com/2016/05/01/countdown-math/\n",
    "\n",
    "[3] fanclub592, \"James Martin 952\", [Online]. Available: https://www.youtube.com/watch?v=6mCgiaAFCu8\n",
    "\n",
    "[4] DataGenetics, \"Countdown Game Show\", 2014, [Online]. Available: http://datagenetics.com/blog/august32014/index.html\n",
    "\n",
    "[5] Real Python, \"Python Functional Programming\", [Online]. Available: https://realpython.com/python-functional-programming/\n",
    "\n",
    "[6] Python Software Foundation, \"Functional Programming HOWTO\", Python Documentation, [Online]. Available: https://docs.python.org/3/howto/functional.html\n",
    "\n",
    "[7] Ian McLoughlin, \"Reverse Polish Notation\", [Online]. Available: https://ianmcloughlin.github.io/reverse_polish_notation/\n"
   ]
  }
 ],
 "metadata": {
  "kernelspec": {
   "display_name": "base",
   "language": "python",
   "name": "python3"
  },
  "language_info": {
   "codemirror_mode": {
    "name": "ipython",
    "version": 3
   },
   "file_extension": ".py",
   "mimetype": "text/x-python",
   "name": "python",
   "nbconvert_exporter": "python",
   "pygments_lexer": "ipython3",
   "version": "3.11.5"
  }
 },
 "nbformat": 4,
 "nbformat_minor": 2
}
